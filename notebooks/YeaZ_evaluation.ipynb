{
  "nbformat": 4,
  "nbformat_minor": 0,
  "metadata": {
    "kernelspec": {
      "display_name": "Yeast Cells",
      "language": "python",
      "name": "yeastcells"
    },
    "language_info": {
      "codemirror_mode": {
        "name": "ipython",
        "version": 3
      },
      "file_extension": ".py",
      "mimetype": "text/x-python",
      "name": "python",
      "nbconvert_exporter": "python",
      "pygments_lexer": "ipython3",
      "version": "3.7.8"
    },
    "colab": {
      "name": "YeaZ_evaluation.ipynb",
      "provenance": []
    }
  },
  "cells": [
    {
      "cell_type": "markdown",
      "metadata": {
        "id": "p6rsU6I9mWO6"
      },
      "source": [
        "# YeaZ output evaluation"
      ]
    },
    {
      "cell_type": "code",
      "metadata": {
        "id": "rzxbyTG8mWO_"
      },
      "source": [
        "import numpy as np\n",
        "import pandas as pd\n",
        "from google.colab import files \n",
        "import matplotlib.pyplot as plt\n",
        "%matplotlib notebook\n",
        "\n",
        "try:\n",
        "  from download import download\n",
        "except ImportError:\n",
        "  !pip3 install download\n",
        "  from download import download\n",
        "\n",
        "try:\n",
        "    from yeastcells import data, model, clustering, features, visualize, evaluation\n",
        "except ImportError:\n",
        "    !test -e yeastcells-detection-maskrcnn || git clone https://github.com/ymzayek/yeastcells-detection-maskrcnn.git\n",
        "    !cd yeastcells-detection-maskrcnn; git pull origin main\n",
        "    !pip3 install ./yeastcells-detection-maskrcnn\n",
        "    from yeastcells import data, model, clustering, features, visualize, evaluation"
      ],
      "execution_count": null,
      "outputs": []
    },
    {
      "cell_type": "markdown",
      "metadata": {
        "id": "4LUZHpLemWPB"
      },
      "source": [
        "### Load YeaZ segmented masks"
      ]
    },
    {
      "cell_type": "code",
      "metadata": {
        "id": "0ks2Okmamnk-"
      },
      "source": [
        "pipeline_path = f'/content/yeastcells-detection-maskrcnn'\n",
        "\n",
        "download(\n",
        "    'https://datascience.web.rug.nl/models/yeast-cells/mask-rcnn/v1/YeaZ_results.zip',\n",
        "    f'{pipeline_path}/YeaZ_results/YeaZ_results.zip'\n",
        ")\n",
        "\n",
        "download(\n",
        "    'https://datascience.web.rug.nl/YIT-Benchmark2.zip', \n",
        "    f'{pipeline_path}/YIT-Benchmark2/YIT-Benchmark2.zip'\n",
        ")\n",
        "\n",
        "!cd '{pipeline_path}' && unzip 'YIT-Benchmark2/YIT-Benchmark2.zip' -d YIT-Benchmark2\n",
        "!cd '{pipeline_path}' && unzip 'YeaZ_results/YeaZ_results.zip' -d YeaZ_results\n",
        "\n",
        "testset = 'TestSet1' "
      ],
      "execution_count": null,
      "outputs": []
    },
    {
      "cell_type": "code",
      "metadata": {
        "id": "ZaUhPHnLmWPB",
        "outputId": "9735af4c-d803-4c9b-a0d2-f52687570837"
      },
      "source": [
        "testset = 'TestSet1' \n",
        "masks = data.read_tiff_mask(f'{pipeline_path}/YeaZ_results/YeaZ_masks_{testset}.tiff')\n",
        "np.shape(masks)"
      ],
      "execution_count": null,
      "outputs": [
        {
          "output_type": "execute_result",
          "data": {
            "text/plain": [
              "(60, 512, 512)"
            ]
          },
          "metadata": {
            "tags": []
          },
          "execution_count": 14
        }
      ]
    },
    {
      "cell_type": "markdown",
      "metadata": {
        "id": "wF-MviTpmWPC"
      },
      "source": [
        "### Extract labels from masks"
      ]
    },
    {
      "cell_type": "code",
      "metadata": {
        "id": "Faz5TMbemWPC"
      },
      "source": [
        "labels, labels_grouped, coordinates, instances = features.extract_labels(masks)"
      ],
      "execution_count": null,
      "outputs": []
    },
    {
      "cell_type": "markdown",
      "metadata": {
        "id": "OFsdyMeFmWPC"
      },
      "source": [
        "### Load ground truth data and reformat prediction outputs into array"
      ]
    },
    {
      "cell_type": "code",
      "metadata": {
        "id": "YhiDj7XWmWPC"
      },
      "source": [
        "seg_path = f'{pipeline_path}/YIT-Benchmark2/{testset}/GroundTruth/GroundTruth_Segmentation.csv'\n",
        "track_path = f'{pipeline_path}/YIT-Benchmark2/{testset}/GroundTruth/GroundTruth_Tracking.csv'\n",
        "gt_s, gt_t = data.get_gt_yit(seg_path, track_path)\n",
        "pred_s, pred_t = data.get_pred_yeaz(labels, labels_grouped, coordinates)"
      ],
      "execution_count": null,
      "outputs": []
    },
    {
      "cell_type": "markdown",
      "metadata": {
        "id": "LJ2zluI0mWPD"
      },
      "source": [
        "### Match predictions to ground truth"
      ]
    },
    {
      "cell_type": "code",
      "metadata": {
        "id": "UcUgnFBGmWPD"
      },
      "source": [
        "results_s = evaluation.get_seg_performance(pred_s, gt_s, instances, pipeline='YeaZ')\n",
        "results_t = evaluation.get_track_performance(pred_t, gt_t, instances, pipeline='YeaZ')"
      ],
      "execution_count": null,
      "outputs": []
    },
    {
      "cell_type": "code",
      "metadata": {
        "id": "2pHZHcNYmWPD",
        "outputId": "44c101b4-9db9-48da-ff4b-f99362d01967"
      },
      "source": [
        "print(results_s)\n",
        "print(results_t)"
      ],
      "execution_count": null,
      "outputs": [
        {
          "output_type": "stream",
          "text": [
            "{'tp': 1115, 'fp': 553, 'fn': 51, 'join': 7, 'split': 0}\n",
            "{'tp': 1102, 'fp': 517, 'fn': 37, 'join': 2, 'split': 2}\n"
          ],
          "name": "stdout"
        }
      ]
    },
    {
      "cell_type": "code",
      "metadata": {
        "id": "zNF9_tpQmWPD"
      },
      "source": [
        "metrics_s = evaluation.calculate_metrics(results_s, pred_s, gt_s)\n",
        "metrics_t = evaluation.calculate_metrics(results_t, pred_t, gt_t)"
      ],
      "execution_count": null,
      "outputs": []
    },
    {
      "cell_type": "code",
      "metadata": {
        "id": "iYQnSrAZmWPD",
        "outputId": "0e6f95b8-a4ed-4a5c-ca37-4638b9085e2b"
      },
      "source": [
        "print(metrics_s)\n",
        "print(metrics_t)"
      ],
      "execution_count": null,
      "outputs": [
        {
          "output_type": "stream",
          "text": [
            "{'F1-score': 0.7868736767819337, 'Accuracy': 0.6486329261198371, 'Precision': 0.6684652278177458, 'Recall': 0.9562607204116638}\n",
            "{'F1-score': 0.7991298042059464, 'Accuracy': 0.6654589371980676, 'Precision': 0.6806670784434836, 'Recall': 0.9675153643546971}\n"
          ],
          "name": "stdout"
        }
      ]
    }
  ]
}
